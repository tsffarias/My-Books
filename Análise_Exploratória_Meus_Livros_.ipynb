{
  "nbformat": 4,
  "nbformat_minor": 0,
  "metadata": {
    "colab": {
      "name": "Análise_Exploratória_Meus_Livros .ipynb",
      "provenance": [],
      "mount_file_id": "https://github.com/tsffarias/My-Books/blob/main/An%C3%A1lise_Explorat%C3%B3ria_Meus_Livros_.ipynb",
      "authorship_tag": "ABX9TyOOhgpdikQ+AcFRRBloFaAc",
      "include_colab_link": true
    },
    "kernelspec": {
      "name": "python3",
      "display_name": "Python 3"
    },
    "language_info": {
      "name": "python"
    }
  },
  "cells": [
    {
      "cell_type": "markdown",
      "metadata": {
        "id": "view-in-github",
        "colab_type": "text"
      },
      "source": [
        "<a href=\"https://colab.research.google.com/github/tsffarias/My-Books/blob/main/An%C3%A1lise_Explorat%C3%B3ria_Meus_Livros_.ipynb\" target=\"_parent\"><img src=\"https://colab.research.google.com/assets/colab-badge.svg\" alt=\"Open In Colab\"/></a>"
      ]
    },
    {
      "cell_type": "markdown",
      "metadata": {
        "id": "ulJ49rFvJ49H"
      },
      "source": [
        "# Análise exploratória Dataset Meus_Livros\n",
        "* **Base de dados:** Meus_Livros\n",
        "* **Analista de Dados:** Thiago Silva"
      ]
    },
    {
      "cell_type": "code",
      "metadata": {
        "id": "EJHl4BUQJu8x"
      },
      "source": [
        "import pandas as pd\n",
        "import numpy as np\n",
        "import matplotlib.pyplot as plt\n",
        "import seaborn as sns"
      ],
      "execution_count": 10,
      "outputs": []
    },
    {
      "cell_type": "code",
      "metadata": {
        "id": "br4TrlH2KZj_",
        "colab": {
          "base_uri": "https://localhost:8080/",
          "height": 206
        },
        "outputId": "108749d9-79eb-402d-c352-c1157daa50d8"
      },
      "source": [
        "df_my_books = pd.read_csv('/All_the_Books_I_read.csv', sep=';')\n",
        "df_my_books.head()"
      ],
      "execution_count": 11,
      "outputs": [
        {
          "output_type": "execute_result",
          "data": {
            "text/plain": [
              "   id                                   titulo                     autor  \\\n",
              "0   1                        The little Prince  Antoine de Saint-Exupéry   \n",
              "1   2  How to win friends and influence people             Dale Carnegie   \n",
              "2   3                             O alquimista              Paulo Coelho   \n",
              "3   4                                Crush it!           Gary Vaynerchuk   \n",
              "4   5                    The thank you Economy           Gary Vaynerchuk   \n",
              "\n",
              "   numero_paginas  data_leitura nacionalidade_autor idioma_obra_original  \\\n",
              "0              96          2016              França              Francês   \n",
              "1             288          2016                 EUA               Inglês   \n",
              "2             197          2016              Brasil            Português   \n",
              "3             142          2016        Bielo-Rússia               Inglês   \n",
              "4             256          2016        Bielo-Rússia               Inglês   \n",
              "\n",
              "  idioma_da_obra_lido  \n",
              "0           Português  \n",
              "1              Inglês  \n",
              "2           Português  \n",
              "3              Inglês  \n",
              "4              Inglês  "
            ],
            "text/html": [
              "\n",
              "  <div id=\"df-b56570ab-c660-490f-82ff-e9724295359e\">\n",
              "    <div class=\"colab-df-container\">\n",
              "      <div>\n",
              "<style scoped>\n",
              "    .dataframe tbody tr th:only-of-type {\n",
              "        vertical-align: middle;\n",
              "    }\n",
              "\n",
              "    .dataframe tbody tr th {\n",
              "        vertical-align: top;\n",
              "    }\n",
              "\n",
              "    .dataframe thead th {\n",
              "        text-align: right;\n",
              "    }\n",
              "</style>\n",
              "<table border=\"1\" class=\"dataframe\">\n",
              "  <thead>\n",
              "    <tr style=\"text-align: right;\">\n",
              "      <th></th>\n",
              "      <th>id</th>\n",
              "      <th>titulo</th>\n",
              "      <th>autor</th>\n",
              "      <th>numero_paginas</th>\n",
              "      <th>data_leitura</th>\n",
              "      <th>nacionalidade_autor</th>\n",
              "      <th>idioma_obra_original</th>\n",
              "      <th>idioma_da_obra_lido</th>\n",
              "    </tr>\n",
              "  </thead>\n",
              "  <tbody>\n",
              "    <tr>\n",
              "      <th>0</th>\n",
              "      <td>1</td>\n",
              "      <td>The little Prince</td>\n",
              "      <td>Antoine de Saint-Exupéry</td>\n",
              "      <td>96</td>\n",
              "      <td>2016</td>\n",
              "      <td>França</td>\n",
              "      <td>Francês</td>\n",
              "      <td>Português</td>\n",
              "    </tr>\n",
              "    <tr>\n",
              "      <th>1</th>\n",
              "      <td>2</td>\n",
              "      <td>How to win friends and influence people</td>\n",
              "      <td>Dale Carnegie</td>\n",
              "      <td>288</td>\n",
              "      <td>2016</td>\n",
              "      <td>EUA</td>\n",
              "      <td>Inglês</td>\n",
              "      <td>Inglês</td>\n",
              "    </tr>\n",
              "    <tr>\n",
              "      <th>2</th>\n",
              "      <td>3</td>\n",
              "      <td>O alquimista</td>\n",
              "      <td>Paulo Coelho</td>\n",
              "      <td>197</td>\n",
              "      <td>2016</td>\n",
              "      <td>Brasil</td>\n",
              "      <td>Português</td>\n",
              "      <td>Português</td>\n",
              "    </tr>\n",
              "    <tr>\n",
              "      <th>3</th>\n",
              "      <td>4</td>\n",
              "      <td>Crush it!</td>\n",
              "      <td>Gary Vaynerchuk</td>\n",
              "      <td>142</td>\n",
              "      <td>2016</td>\n",
              "      <td>Bielo-Rússia</td>\n",
              "      <td>Inglês</td>\n",
              "      <td>Inglês</td>\n",
              "    </tr>\n",
              "    <tr>\n",
              "      <th>4</th>\n",
              "      <td>5</td>\n",
              "      <td>The thank you Economy</td>\n",
              "      <td>Gary Vaynerchuk</td>\n",
              "      <td>256</td>\n",
              "      <td>2016</td>\n",
              "      <td>Bielo-Rússia</td>\n",
              "      <td>Inglês</td>\n",
              "      <td>Inglês</td>\n",
              "    </tr>\n",
              "  </tbody>\n",
              "</table>\n",
              "</div>\n",
              "      <button class=\"colab-df-convert\" onclick=\"convertToInteractive('df-b56570ab-c660-490f-82ff-e9724295359e')\"\n",
              "              title=\"Convert this dataframe to an interactive table.\"\n",
              "              style=\"display:none;\">\n",
              "        \n",
              "  <svg xmlns=\"http://www.w3.org/2000/svg\" height=\"24px\"viewBox=\"0 0 24 24\"\n",
              "       width=\"24px\">\n",
              "    <path d=\"M0 0h24v24H0V0z\" fill=\"none\"/>\n",
              "    <path d=\"M18.56 5.44l.94 2.06.94-2.06 2.06-.94-2.06-.94-.94-2.06-.94 2.06-2.06.94zm-11 1L8.5 8.5l.94-2.06 2.06-.94-2.06-.94L8.5 2.5l-.94 2.06-2.06.94zm10 10l.94 2.06.94-2.06 2.06-.94-2.06-.94-.94-2.06-.94 2.06-2.06.94z\"/><path d=\"M17.41 7.96l-1.37-1.37c-.4-.4-.92-.59-1.43-.59-.52 0-1.04.2-1.43.59L10.3 9.45l-7.72 7.72c-.78.78-.78 2.05 0 2.83L4 21.41c.39.39.9.59 1.41.59.51 0 1.02-.2 1.41-.59l7.78-7.78 2.81-2.81c.8-.78.8-2.07 0-2.86zM5.41 20L4 18.59l7.72-7.72 1.47 1.35L5.41 20z\"/>\n",
              "  </svg>\n",
              "      </button>\n",
              "      \n",
              "  <style>\n",
              "    .colab-df-container {\n",
              "      display:flex;\n",
              "      flex-wrap:wrap;\n",
              "      gap: 12px;\n",
              "    }\n",
              "\n",
              "    .colab-df-convert {\n",
              "      background-color: #E8F0FE;\n",
              "      border: none;\n",
              "      border-radius: 50%;\n",
              "      cursor: pointer;\n",
              "      display: none;\n",
              "      fill: #1967D2;\n",
              "      height: 32px;\n",
              "      padding: 0 0 0 0;\n",
              "      width: 32px;\n",
              "    }\n",
              "\n",
              "    .colab-df-convert:hover {\n",
              "      background-color: #E2EBFA;\n",
              "      box-shadow: 0px 1px 2px rgba(60, 64, 67, 0.3), 0px 1px 3px 1px rgba(60, 64, 67, 0.15);\n",
              "      fill: #174EA6;\n",
              "    }\n",
              "\n",
              "    [theme=dark] .colab-df-convert {\n",
              "      background-color: #3B4455;\n",
              "      fill: #D2E3FC;\n",
              "    }\n",
              "\n",
              "    [theme=dark] .colab-df-convert:hover {\n",
              "      background-color: #434B5C;\n",
              "      box-shadow: 0px 1px 3px 1px rgba(0, 0, 0, 0.15);\n",
              "      filter: drop-shadow(0px 1px 2px rgba(0, 0, 0, 0.3));\n",
              "      fill: #FFFFFF;\n",
              "    }\n",
              "  </style>\n",
              "\n",
              "      <script>\n",
              "        const buttonEl =\n",
              "          document.querySelector('#df-b56570ab-c660-490f-82ff-e9724295359e button.colab-df-convert');\n",
              "        buttonEl.style.display =\n",
              "          google.colab.kernel.accessAllowed ? 'block' : 'none';\n",
              "\n",
              "        async function convertToInteractive(key) {\n",
              "          const element = document.querySelector('#df-b56570ab-c660-490f-82ff-e9724295359e');\n",
              "          const dataTable =\n",
              "            await google.colab.kernel.invokeFunction('convertToInteractive',\n",
              "                                                     [key], {});\n",
              "          if (!dataTable) return;\n",
              "\n",
              "          const docLinkHtml = 'Like what you see? Visit the ' +\n",
              "            '<a target=\"_blank\" href=https://colab.research.google.com/notebooks/data_table.ipynb>data table notebook</a>'\n",
              "            + ' to learn more about interactive tables.';\n",
              "          element.innerHTML = '';\n",
              "          dataTable['output_type'] = 'display_data';\n",
              "          await google.colab.output.renderOutput(dataTable, element);\n",
              "          const docLink = document.createElement('div');\n",
              "          docLink.innerHTML = docLinkHtml;\n",
              "          element.appendChild(docLink);\n",
              "        }\n",
              "      </script>\n",
              "    </div>\n",
              "  </div>\n",
              "  "
            ]
          },
          "metadata": {},
          "execution_count": 11
        }
      ]
    },
    {
      "cell_type": "code",
      "metadata": {
        "colab": {
          "base_uri": "https://localhost:8080/"
        },
        "id": "O_t4EhkrwjIu",
        "outputId": "76673553-da7c-4111-946b-55e03ff7ca06"
      },
      "source": [
        "df_my_books.shape"
      ],
      "execution_count": 12,
      "outputs": [
        {
          "output_type": "execute_result",
          "data": {
            "text/plain": [
              "(89, 8)"
            ]
          },
          "metadata": {},
          "execution_count": 12
        }
      ]
    },
    {
      "cell_type": "code",
      "metadata": {
        "colab": {
          "base_uri": "https://localhost:8080/"
        },
        "id": "n3RJhfu-Pjk6",
        "outputId": "c9b37fc3-8b4f-4748-e348-96adc0d30093"
      },
      "source": [
        "df_my_books.info()"
      ],
      "execution_count": 13,
      "outputs": [
        {
          "output_type": "stream",
          "name": "stdout",
          "text": [
            "<class 'pandas.core.frame.DataFrame'>\n",
            "RangeIndex: 89 entries, 0 to 88\n",
            "Data columns (total 8 columns):\n",
            " #   Column                Non-Null Count  Dtype \n",
            "---  ------                --------------  ----- \n",
            " 0   id                    89 non-null     int64 \n",
            " 1   titulo                89 non-null     object\n",
            " 2   autor                 89 non-null     object\n",
            " 3   numero_paginas        89 non-null     int64 \n",
            " 4   data_leitura          89 non-null     int64 \n",
            " 5   nacionalidade_autor   89 non-null     object\n",
            " 6   idioma_obra_original  89 non-null     object\n",
            " 7   idioma_da_obra_lido   89 non-null     object\n",
            "dtypes: int64(3), object(5)\n",
            "memory usage: 5.7+ KB\n"
          ]
        }
      ]
    },
    {
      "cell_type": "code",
      "metadata": {
        "colab": {
          "base_uri": "https://localhost:8080/"
        },
        "id": "MYFCzn9Xfw5t",
        "outputId": "f0323800-5071-4b9d-9239-c447553469b5"
      },
      "source": [
        "qtd_livros_por_ano = df_my_books[\"data_leitura\"].value_counts().to_frame()\n",
        "livros_por_ano = qtd_livros_por_ano.rename(columns={\"data_leitura\": \"qtd_livros\"})\n",
        "media_livros_ano = livros_por_ano['qtd_livros'].mean()\n",
        "\n",
        "print(f'Média de livros lido por ano: {round(media_livros_ano)}')"
      ],
      "execution_count": 14,
      "outputs": [
        {
          "output_type": "stream",
          "name": "stdout",
          "text": [
            "Média de livros lido por ano: 13\n"
          ]
        }
      ]
    },
    {
      "cell_type": "code",
      "metadata": {
        "colab": {
          "base_uri": "https://localhost:8080/"
        },
        "id": "ujtdaJ1peICd",
        "outputId": "7dae23e9-9ac9-4b5f-abe7-018b912ceb16"
      },
      "source": [
        "print(f'Número total de livros lido até o momento: {df_my_books[\"id\"].count()}')"
      ],
      "execution_count": 15,
      "outputs": [
        {
          "output_type": "stream",
          "name": "stdout",
          "text": [
            "Número total de livros lido até o momento: 89\n"
          ]
        }
      ]
    },
    {
      "cell_type": "code",
      "metadata": {
        "colab": {
          "base_uri": "https://localhost:8080/"
        },
        "id": "yf6ZMxjTwkU2",
        "outputId": "35b1c7c4-dcfb-450e-8afe-0c5d6fbad6b3"
      },
      "source": [
        "print(f'Número total de páginas lido até o momento: {df_my_books[\"numero_paginas\"].sum()}')"
      ],
      "execution_count": 16,
      "outputs": [
        {
          "output_type": "stream",
          "name": "stdout",
          "text": [
            "Número total de páginas lido até o momento: 17071\n"
          ]
        }
      ]
    },
    {
      "cell_type": "code",
      "metadata": {
        "colab": {
          "base_uri": "https://localhost:8080/",
          "height": 300
        },
        "id": "5srDKY6vPCED",
        "outputId": "c61cc0e8-c634-4a6e-dad3-f8e43301844f"
      },
      "source": [
        "# quantidade de paginas por ano\n",
        "qtd_paginas_por_ano = df_my_books.groupby(\"data_leitura\")[\"numero_paginas\"].sum().to_frame()\n",
        "qtd_paginas_por_ano"
      ],
      "execution_count": 17,
      "outputs": [
        {
          "output_type": "execute_result",
          "data": {
            "text/plain": [
              "              numero_paginas\n",
              "data_leitura                \n",
              "2016                    5372\n",
              "2017                    3130\n",
              "2018                    3457\n",
              "2019                    1108\n",
              "2020                    1642\n",
              "2021                    1301\n",
              "2022                    1061"
            ],
            "text/html": [
              "\n",
              "  <div id=\"df-1d4d2f76-2ad2-4715-8243-2c2b6546c535\">\n",
              "    <div class=\"colab-df-container\">\n",
              "      <div>\n",
              "<style scoped>\n",
              "    .dataframe tbody tr th:only-of-type {\n",
              "        vertical-align: middle;\n",
              "    }\n",
              "\n",
              "    .dataframe tbody tr th {\n",
              "        vertical-align: top;\n",
              "    }\n",
              "\n",
              "    .dataframe thead th {\n",
              "        text-align: right;\n",
              "    }\n",
              "</style>\n",
              "<table border=\"1\" class=\"dataframe\">\n",
              "  <thead>\n",
              "    <tr style=\"text-align: right;\">\n",
              "      <th></th>\n",
              "      <th>numero_paginas</th>\n",
              "    </tr>\n",
              "    <tr>\n",
              "      <th>data_leitura</th>\n",
              "      <th></th>\n",
              "    </tr>\n",
              "  </thead>\n",
              "  <tbody>\n",
              "    <tr>\n",
              "      <th>2016</th>\n",
              "      <td>5372</td>\n",
              "    </tr>\n",
              "    <tr>\n",
              "      <th>2017</th>\n",
              "      <td>3130</td>\n",
              "    </tr>\n",
              "    <tr>\n",
              "      <th>2018</th>\n",
              "      <td>3457</td>\n",
              "    </tr>\n",
              "    <tr>\n",
              "      <th>2019</th>\n",
              "      <td>1108</td>\n",
              "    </tr>\n",
              "    <tr>\n",
              "      <th>2020</th>\n",
              "      <td>1642</td>\n",
              "    </tr>\n",
              "    <tr>\n",
              "      <th>2021</th>\n",
              "      <td>1301</td>\n",
              "    </tr>\n",
              "    <tr>\n",
              "      <th>2022</th>\n",
              "      <td>1061</td>\n",
              "    </tr>\n",
              "  </tbody>\n",
              "</table>\n",
              "</div>\n",
              "      <button class=\"colab-df-convert\" onclick=\"convertToInteractive('df-1d4d2f76-2ad2-4715-8243-2c2b6546c535')\"\n",
              "              title=\"Convert this dataframe to an interactive table.\"\n",
              "              style=\"display:none;\">\n",
              "        \n",
              "  <svg xmlns=\"http://www.w3.org/2000/svg\" height=\"24px\"viewBox=\"0 0 24 24\"\n",
              "       width=\"24px\">\n",
              "    <path d=\"M0 0h24v24H0V0z\" fill=\"none\"/>\n",
              "    <path d=\"M18.56 5.44l.94 2.06.94-2.06 2.06-.94-2.06-.94-.94-2.06-.94 2.06-2.06.94zm-11 1L8.5 8.5l.94-2.06 2.06-.94-2.06-.94L8.5 2.5l-.94 2.06-2.06.94zm10 10l.94 2.06.94-2.06 2.06-.94-2.06-.94-.94-2.06-.94 2.06-2.06.94z\"/><path d=\"M17.41 7.96l-1.37-1.37c-.4-.4-.92-.59-1.43-.59-.52 0-1.04.2-1.43.59L10.3 9.45l-7.72 7.72c-.78.78-.78 2.05 0 2.83L4 21.41c.39.39.9.59 1.41.59.51 0 1.02-.2 1.41-.59l7.78-7.78 2.81-2.81c.8-.78.8-2.07 0-2.86zM5.41 20L4 18.59l7.72-7.72 1.47 1.35L5.41 20z\"/>\n",
              "  </svg>\n",
              "      </button>\n",
              "      \n",
              "  <style>\n",
              "    .colab-df-container {\n",
              "      display:flex;\n",
              "      flex-wrap:wrap;\n",
              "      gap: 12px;\n",
              "    }\n",
              "\n",
              "    .colab-df-convert {\n",
              "      background-color: #E8F0FE;\n",
              "      border: none;\n",
              "      border-radius: 50%;\n",
              "      cursor: pointer;\n",
              "      display: none;\n",
              "      fill: #1967D2;\n",
              "      height: 32px;\n",
              "      padding: 0 0 0 0;\n",
              "      width: 32px;\n",
              "    }\n",
              "\n",
              "    .colab-df-convert:hover {\n",
              "      background-color: #E2EBFA;\n",
              "      box-shadow: 0px 1px 2px rgba(60, 64, 67, 0.3), 0px 1px 3px 1px rgba(60, 64, 67, 0.15);\n",
              "      fill: #174EA6;\n",
              "    }\n",
              "\n",
              "    [theme=dark] .colab-df-convert {\n",
              "      background-color: #3B4455;\n",
              "      fill: #D2E3FC;\n",
              "    }\n",
              "\n",
              "    [theme=dark] .colab-df-convert:hover {\n",
              "      background-color: #434B5C;\n",
              "      box-shadow: 0px 1px 3px 1px rgba(0, 0, 0, 0.15);\n",
              "      filter: drop-shadow(0px 1px 2px rgba(0, 0, 0, 0.3));\n",
              "      fill: #FFFFFF;\n",
              "    }\n",
              "  </style>\n",
              "\n",
              "      <script>\n",
              "        const buttonEl =\n",
              "          document.querySelector('#df-1d4d2f76-2ad2-4715-8243-2c2b6546c535 button.colab-df-convert');\n",
              "        buttonEl.style.display =\n",
              "          google.colab.kernel.accessAllowed ? 'block' : 'none';\n",
              "\n",
              "        async function convertToInteractive(key) {\n",
              "          const element = document.querySelector('#df-1d4d2f76-2ad2-4715-8243-2c2b6546c535');\n",
              "          const dataTable =\n",
              "            await google.colab.kernel.invokeFunction('convertToInteractive',\n",
              "                                                     [key], {});\n",
              "          if (!dataTable) return;\n",
              "\n",
              "          const docLinkHtml = 'Like what you see? Visit the ' +\n",
              "            '<a target=\"_blank\" href=https://colab.research.google.com/notebooks/data_table.ipynb>data table notebook</a>'\n",
              "            + ' to learn more about interactive tables.';\n",
              "          element.innerHTML = '';\n",
              "          dataTable['output_type'] = 'display_data';\n",
              "          await google.colab.output.renderOutput(dataTable, element);\n",
              "          const docLink = document.createElement('div');\n",
              "          docLink.innerHTML = docLinkHtml;\n",
              "          element.appendChild(docLink);\n",
              "        }\n",
              "      </script>\n",
              "    </div>\n",
              "  </div>\n",
              "  "
            ]
          },
          "metadata": {},
          "execution_count": 17
        }
      ]
    },
    {
      "cell_type": "code",
      "metadata": {
        "colab": {
          "base_uri": "https://localhost:8080/",
          "height": 645
        },
        "id": "dqR-mommUUON",
        "outputId": "589c636f-87f9-47fe-b2f0-604c500afd87"
      },
      "source": [
        "# grafico quantidade de paginas por ano\n",
        "sns.set()\n",
        "plt.figure(figsize=(15, 10))\n",
        "\n",
        "plt.title('Total Paginas Lidas por Ano')\n",
        "qtd_paginas_por_ano[\"numero_paginas\"].plot.bar()\n",
        "\n",
        "for index, data in enumerate(qtd_paginas_por_ano[\"numero_paginas\"]):\n",
        "    plt.text(x=index , y=data+1, s=f\"{data}\", fontdict=dict(fontsize=10), ha='center')\n",
        "\n",
        "plt.xlabel('Quantidade Paginas')\n",
        "plt.ylabel('Ano')\n",
        "\n",
        "plt.show()"
      ],
      "execution_count": 18,
      "outputs": [
        {
          "output_type": "display_data",
          "data": {
            "text/plain": [
              "<Figure size 1080x720 with 1 Axes>"
            ],
            "image/png": "[encoded data removed]"
          },
          "metadata": {}
        }
      ]
    },
    {
      "cell_type": "code",
      "metadata": {
        "colab": {
          "base_uri": "https://localhost:8080/",
          "height": 269
        },
        "id": "BPaDifPBO5hy",
        "outputId": "d8a5bf0b-0bcc-4633-8fe2-6467ac23e4d3"
      },
      "source": [
        "# quantidade de livros por ano\n",
        "qtd_livros_por_ano = df_my_books[\"data_leitura\"].value_counts().to_frame()\n",
        "qtd_livros_por_ano = qtd_livros_por_ano.rename(columns={\"data_leitura\": \"qtd_livros\"})\n",
        "qtd_livros_por_ano.sort_index(inplace=True)\n",
        "qtd_livros_por_ano"
      ],
      "execution_count": 19,
      "outputs": [
        {
          "output_type": "execute_result",
          "data": {
            "text/plain": [
              "      qtd_livros\n",
              "2016          21\n",
              "2017          15\n",
              "2018          20\n",
              "2019           9\n",
              "2020          11\n",
              "2021           7\n",
              "2022           6"
            ],
            "text/html": [
              "\n",
              "  <div id=\"df-32539c7a-fd3d-4f27-8ba2-be1d44eebf26\">\n",
              "    <div class=\"colab-df-container\">\n",
              "      <div>\n",
              "<style scoped>\n",
              "    .dataframe tbody tr th:only-of-type {\n",
              "        vertical-align: middle;\n",
              "    }\n",
              "\n",
              "    .dataframe tbody tr th {\n",
              "        vertical-align: top;\n",
              "    }\n",
              "\n",
              "    .dataframe thead th {\n",
              "        text-align: right;\n",
              "    }\n",
              "</style>\n",
              "<table border=\"1\" class=\"dataframe\">\n",
              "  <thead>\n",
              "    <tr style=\"text-align: right;\">\n",
              "      <th></th>\n",
              "      <th>qtd_livros</th>\n",
              "    </tr>\n",
              "  </thead>\n",
              "  <tbody>\n",
              "    <tr>\n",
              "      <th>2016</th>\n",
              "      <td>21</td>\n",
              "    </tr>\n",
              "    <tr>\n",
              "      <th>2017</th>\n",
              "      <td>15</td>\n",
              "    </tr>\n",
              "    <tr>\n",
              "      <th>2018</th>\n",
              "      <td>20</td>\n",
              "    </tr>\n",
              "    <tr>\n",
              "      <th>2019</th>\n",
              "      <td>9</td>\n",
              "    </tr>\n",
              "    <tr>\n",
              "      <th>2020</th>\n",
              "      <td>11</td>\n",
              "    </tr>\n",
              "    <tr>\n",
              "      <th>2021</th>\n",
              "      <td>7</td>\n",
              "    </tr>\n",
              "    <tr>\n",
              "      <th>2022</th>\n",
              "      <td>6</td>\n",
              "    </tr>\n",
              "  </tbody>\n",
              "</table>\n",
              "</div>\n",
              "      <button class=\"colab-df-convert\" onclick=\"convertToInteractive('df-32539c7a-fd3d-4f27-8ba2-be1d44eebf26')\"\n",
              "              title=\"Convert this dataframe to an interactive table.\"\n",
              "              style=\"display:none;\">\n",
              "        \n",
              "  <svg xmlns=\"http://www.w3.org/2000/svg\" height=\"24px\"viewBox=\"0 0 24 24\"\n",
              "       width=\"24px\">\n",
              "    <path d=\"M0 0h24v24H0V0z\" fill=\"none\"/>\n",
              "    <path d=\"M18.56 5.44l.94 2.06.94-2.06 2.06-.94-2.06-.94-.94-2.06-.94 2.06-2.06.94zm-11 1L8.5 8.5l.94-2.06 2.06-.94-2.06-.94L8.5 2.5l-.94 2.06-2.06.94zm10 10l.94 2.06.94-2.06 2.06-.94-2.06-.94-.94-2.06-.94 2.06-2.06.94z\"/><path d=\"M17.41 7.96l-1.37-1.37c-.4-.4-.92-.59-1.43-.59-.52 0-1.04.2-1.43.59L10.3 9.45l-7.72 7.72c-.78.78-.78 2.05 0 2.83L4 21.41c.39.39.9.59 1.41.59.51 0 1.02-.2 1.41-.59l7.78-7.78 2.81-2.81c.8-.78.8-2.07 0-2.86zM5.41 20L4 18.59l7.72-7.72 1.47 1.35L5.41 20z\"/>\n",
              "  </svg>\n",
              "      </button>\n",
              "      \n",
              "  <style>\n",
              "    .colab-df-container {\n",
              "      display:flex;\n",
              "      flex-wrap:wrap;\n",
              "      gap: 12px;\n",
              "    }\n",
              "\n",
              "    .colab-df-convert {\n",
              "      background-color: #E8F0FE;\n",
              "      border: none;\n",
              "      border-radius: 50%;\n",
              "      cursor: pointer;\n",
              "      display: none;\n",
              "      fill: #1967D2;\n",
              "      height: 32px;\n",
              "      padding: 0 0 0 0;\n",
              "      width: 32px;\n",
              "    }\n",
              "\n",
              "    .colab-df-convert:hover {\n",
              "      background-color: #E2EBFA;\n",
              "      box-shadow: 0px 1px 2px rgba(60, 64, 67, 0.3), 0px 1px 3px 1px rgba(60, 64, 67, 0.15);\n",
              "      fill: #174EA6;\n",
              "    }\n",
              "\n",
              "    [theme=dark] .colab-df-convert {\n",
              "      background-color: #3B4455;\n",
              "      fill: #D2E3FC;\n",
              "    }\n",
              "\n",
              "    [theme=dark] .colab-df-convert:hover {\n",
              "      background-color: #434B5C;\n",
              "      box-shadow: 0px 1px 3px 1px rgba(0, 0, 0, 0.15);\n",
              "      filter: drop-shadow(0px 1px 2px rgba(0, 0, 0, 0.3));\n",
              "      fill: #FFFFFF;\n",
              "    }\n",
              "  </style>\n",
              "\n",
              "      <script>\n",
              "        const buttonEl =\n",
              "          document.querySelector('#df-32539c7a-fd3d-4f27-8ba2-be1d44eebf26 button.colab-df-convert');\n",
              "        buttonEl.style.display =\n",
              "          google.colab.kernel.accessAllowed ? 'block' : 'none';\n",
              "\n",
              "        async function convertToInteractive(key) {\n",
              "          const element = document.querySelector('#df-32539c7a-fd3d-4f27-8ba2-be1d44eebf26');\n",
              "          const dataTable =\n",
              "            await google.colab.kernel.invokeFunction('convertToInteractive',\n",
              "                                                     [key], {});\n",
              "          if (!dataTable) return;\n",
              "\n",
              "          const docLinkHtml = 'Like what you see? Visit the ' +\n",
              "            '<a target=\"_blank\" href=https://colab.research.google.com/notebooks/data_table.ipynb>data table notebook</a>'\n",
              "            + ' to learn more about interactive tables.';\n",
              "          element.innerHTML = '';\n",
              "          dataTable['output_type'] = 'display_data';\n",
              "          await google.colab.output.renderOutput(dataTable, element);\n",
              "          const docLink = document.createElement('div');\n",
              "          docLink.innerHTML = docLinkHtml;\n",
              "          element.appendChild(docLink);\n",
              "        }\n",
              "      </script>\n",
              "    </div>\n",
              "  </div>\n",
              "  "
            ]
          },
          "metadata": {},
          "execution_count": 19
        }
      ]
    },
    {
      "cell_type": "code",
      "metadata": {
        "colab": {
          "base_uri": "https://localhost:8080/",
          "height": 627
        },
        "id": "GB1kW51ORL1d",
        "outputId": "f8487907-a173-46d7-e97d-6cabf73390d3"
      },
      "source": [
        "# grafico quantidade de livros por ano\n",
        "sns.set()\n",
        "plt.figure(figsize=(15, 10))\n",
        "\n",
        "plt.title('Total Livros Lidos por Ano')\n",
        "qtd_livros_por_ano[\"qtd_livros\"].sort_values(ascending=True).plot.barh()\n",
        "\n",
        "plt.xlabel('Quantidade Livros')\n",
        "plt.ylabel('Ano')\n",
        "\n",
        "plt.show()"
      ],
      "execution_count": 20,
      "outputs": [
        {
          "output_type": "display_data",
          "data": {
            "text/plain": [
              "<Figure size 1080x720 with 1 Axes>"
            ],
            "image/png": "[encoded data removed]"
          },
          "metadata": {}
        }
      ]
    },
    {
      "cell_type": "code",
      "metadata": {
        "colab": {
          "base_uri": "https://localhost:8080/",
          "height": 627
        },
        "id": "9iXqG4GJS03V",
        "outputId": "8890e2ef-2632-4b5d-e825-a9cdff34a6bc"
      },
      "source": [
        "# grafico quantidade de livros por ano\n",
        "sns.set()\n",
        "plt.figure(figsize=(15, 10))\n",
        "\n",
        "plt.title('Total Livros Lidos por Ano')\n",
        "sns.lineplot(data=qtd_livros_por_ano, x=qtd_livros_por_ano.index, y=qtd_livros_por_ano[\"qtd_livros\"], marker=\"o\")\n",
        "\n",
        "plt.xlabel('Ano')\n",
        "plt.ylabel('Quantidade Livros')\n",
        "\n",
        "plt.show()"
      ],
      "execution_count": 21,
      "outputs": [
        {
          "output_type": "display_data",
          "data": {
            "text/plain": [
              "<Figure size 1080x720 with 1 Axes>"
            ],
            "image/png": "[encoded data removed]"
          },
          "metadata": {}
        }
      ]
    },
    {
      "cell_type": "code",
      "metadata": {
        "colab": {
          "base_uri": "https://localhost:8080/"
        },
        "id": "npV2qk7JOqSq",
        "outputId": "4d1cf14a-717b-4c33-c66c-0ba4c4f2953c"
      },
      "source": [
        "# Quantidade de livros lidos por idioma\n",
        "df_my_books[\"idioma_da_obra_lido\"].value_counts()"
      ],
      "execution_count": 22,
      "outputs": [
        {
          "output_type": "execute_result",
          "data": {
            "text/plain": [
              "Inglês       58\n",
              "Português    31\n",
              "Name: idioma_da_obra_lido, dtype: int64"
            ]
          },
          "metadata": {},
          "execution_count": 22
        }
      ]
    },
    {
      "cell_type": "code",
      "metadata": {
        "colab": {
          "base_uri": "https://localhost:8080/",
          "height": 373
        },
        "id": "0_WWCM_aV172",
        "outputId": "e99c7ab4-fad7-45ec-a61f-991248e77b04"
      },
      "source": [
        "# Gráfico quantidade de livros lidos por idioma\n",
        "sns.set()\n",
        "plt.figure(figsize=(15, 10))\n",
        "plt.title('Total Livros Lidos por Idioma')\n",
        "df_my_books[\"idioma_da_obra_lido\"].value_counts().plot.pie(figsize=(8, 6), autopct='%1.1f%%')\n",
        "\n",
        "plt.ylabel('')\n",
        "plt.show()"
      ],
      "execution_count": 23,
      "outputs": [
        {
          "output_type": "display_data",
          "data": {
            "text/plain": [
              "<Figure size 576x432 with 1 Axes>"
            ],
            "image/png": "[encoded data removed]"
          },
          "metadata": {}
        }
      ]
    },
    {
      "cell_type": "code",
      "metadata": {
        "colab": {
          "base_uri": "https://localhost:8080/",
          "height": 363
        },
        "id": "vna_SciHOfCb",
        "outputId": "e6c7272d-235e-4b1c-d5e4-54db38aa2f5e"
      },
      "source": [
        "# Quantidade de livros lidos por idioma da obra original\n",
        "qtd_livros_por_idioma_original = df_my_books[\"idioma_obra_original\"].value_counts().to_frame()\n",
        "qtd_livros_por_idioma_original = qtd_livros_por_idioma_original.rename(columns={\"idioma_obra_original\": \"qtd_livros\"})\n",
        "qtd_livros_por_idioma_original"
      ],
      "execution_count": 24,
      "outputs": [
        {
          "output_type": "execute_result",
          "data": {
            "text/plain": [
              "                    qtd_livros\n",
              "Inglês                      62\n",
              "Português                   11\n",
              "Alemão                       5\n",
              "Francês                      2\n",
              "Chinês Clássico              2\n",
              "Latim                        2\n",
              "Português-Portugal           2\n",
              "Italiano                     1\n",
              "Russo                        1\n",
              "Grego                        1"
            ],
            "text/html": [
              "\n",
              "  <div id=\"df-b32153f7-fe4b-414d-988d-372e0cd40e22\">\n",
              "    <div class=\"colab-df-container\">\n",
              "      <div>\n",
              "<style scoped>\n",
              "    .dataframe tbody tr th:only-of-type {\n",
              "        vertical-align: middle;\n",
              "    }\n",
              "\n",
              "    .dataframe tbody tr th {\n",
              "        vertical-align: top;\n",
              "    }\n",
              "\n",
              "    .dataframe thead th {\n",
              "        text-align: right;\n",
              "    }\n",
              "</style>\n",
              "<table border=\"1\" class=\"dataframe\">\n",
              "  <thead>\n",
              "    <tr style=\"text-align: right;\">\n",
              "      <th></th>\n",
              "      <th>qtd_livros</th>\n",
              "    </tr>\n",
              "  </thead>\n",
              "  <tbody>\n",
              "    <tr>\n",
              "      <th>Inglês</th>\n",
              "      <td>62</td>\n",
              "    </tr>\n",
              "    <tr>\n",
              "      <th>Português</th>\n",
              "      <td>11</td>\n",
              "    </tr>\n",
              "    <tr>\n",
              "      <th>Alemão</th>\n",
              "      <td>5</td>\n",
              "    </tr>\n",
              "    <tr>\n",
              "      <th>Francês</th>\n",
              "      <td>2</td>\n",
              "    </tr>\n",
              "    <tr>\n",
              "      <th>Chinês Clássico</th>\n",
              "      <td>2</td>\n",
              "    </tr>\n",
              "    <tr>\n",
              "      <th>Latim</th>\n",
              "      <td>2</td>\n",
              "    </tr>\n",
              "    <tr>\n",
              "      <th>Português-Portugal</th>\n",
              "      <td>2</td>\n",
              "    </tr>\n",
              "    <tr>\n",
              "      <th>Italiano</th>\n",
              "      <td>1</td>\n",
              "    </tr>\n",
              "    <tr>\n",
              "      <th>Russo</th>\n",
              "      <td>1</td>\n",
              "    </tr>\n",
              "    <tr>\n",
              "      <th>Grego</th>\n",
              "      <td>1</td>\n",
              "    </tr>\n",
              "  </tbody>\n",
              "</table>\n",
              "</div>\n",
              "      <button class=\"colab-df-convert\" onclick=\"convertToInteractive('df-b32153f7-fe4b-414d-988d-372e0cd40e22')\"\n",
              "              title=\"Convert this dataframe to an interactive table.\"\n",
              "              style=\"display:none;\">\n",
              "        \n",
              "  <svg xmlns=\"http://www.w3.org/2000/svg\" height=\"24px\"viewBox=\"0 0 24 24\"\n",
              "       width=\"24px\">\n",
              "    <path d=\"M0 0h24v24H0V0z\" fill=\"none\"/>\n",
              "    <path d=\"M18.56 5.44l.94 2.06.94-2.06 2.06-.94-2.06-.94-.94-2.06-.94 2.06-2.06.94zm-11 1L8.5 8.5l.94-2.06 2.06-.94-2.06-.94L8.5 2.5l-.94 2.06-2.06.94zm10 10l.94 2.06.94-2.06 2.06-.94-2.06-.94-.94-2.06-.94 2.06-2.06.94z\"/><path d=\"M17.41 7.96l-1.37-1.37c-.4-.4-.92-.59-1.43-.59-.52 0-1.04.2-1.43.59L10.3 9.45l-7.72 7.72c-.78.78-.78 2.05 0 2.83L4 21.41c.39.39.9.59 1.41.59.51 0 1.02-.2 1.41-.59l7.78-7.78 2.81-2.81c.8-.78.8-2.07 0-2.86zM5.41 20L4 18.59l7.72-7.72 1.47 1.35L5.41 20z\"/>\n",
              "  </svg>\n",
              "      </button>\n",
              "      \n",
              "  <style>\n",
              "    .colab-df-container {\n",
              "      display:flex;\n",
              "      flex-wrap:wrap;\n",
              "      gap: 12px;\n",
              "    }\n",
              "\n",
              "    .colab-df-convert {\n",
              "      background-color: #E8F0FE;\n",
              "      border: none;\n",
              "      border-radius: 50%;\n",
              "      cursor: pointer;\n",
              "      display: none;\n",
              "      fill: #1967D2;\n",
              "      height: 32px;\n",
              "      padding: 0 0 0 0;\n",
              "      width: 32px;\n",
              "    }\n",
              "\n",
              "    .colab-df-convert:hover {\n",
              "      background-color: #E2EBFA;\n",
              "      box-shadow: 0px 1px 2px rgba(60, 64, 67, 0.3), 0px 1px 3px 1px rgba(60, 64, 67, 0.15);\n",
              "      fill: #174EA6;\n",
              "    }\n",
              "\n",
              "    [theme=dark] .colab-df-convert {\n",
              "      background-color: #3B4455;\n",
              "      fill: #D2E3FC;\n",
              "    }\n",
              "\n",
              "    [theme=dark] .colab-df-convert:hover {\n",
              "      background-color: #434B5C;\n",
              "      box-shadow: 0px 1px 3px 1px rgba(0, 0, 0, 0.15);\n",
              "      filter: drop-shadow(0px 1px 2px rgba(0, 0, 0, 0.3));\n",
              "      fill: #FFFFFF;\n",
              "    }\n",
              "  </style>\n",
              "\n",
              "      <script>\n",
              "        const buttonEl =\n",
              "          document.querySelector('#df-b32153f7-fe4b-414d-988d-372e0cd40e22 button.colab-df-convert');\n",
              "        buttonEl.style.display =\n",
              "          google.colab.kernel.accessAllowed ? 'block' : 'none';\n",
              "\n",
              "        async function convertToInteractive(key) {\n",
              "          const element = document.querySelector('#df-b32153f7-fe4b-414d-988d-372e0cd40e22');\n",
              "          const dataTable =\n",
              "            await google.colab.kernel.invokeFunction('convertToInteractive',\n",
              "                                                     [key], {});\n",
              "          if (!dataTable) return;\n",
              "\n",
              "          const docLinkHtml = 'Like what you see? Visit the ' +\n",
              "            '<a target=\"_blank\" href=https://colab.research.google.com/notebooks/data_table.ipynb>data table notebook</a>'\n",
              "            + ' to learn more about interactive tables.';\n",
              "          element.innerHTML = '';\n",
              "          dataTable['output_type'] = 'display_data';\n",
              "          await google.colab.output.renderOutput(dataTable, element);\n",
              "          const docLink = document.createElement('div');\n",
              "          docLink.innerHTML = docLinkHtml;\n",
              "          element.appendChild(docLink);\n",
              "        }\n",
              "      </script>\n",
              "    </div>\n",
              "  </div>\n",
              "  "
            ]
          },
          "metadata": {},
          "execution_count": 24
        }
      ]
    },
    {
      "cell_type": "code",
      "metadata": {
        "colab": {
          "base_uri": "https://localhost:8080/",
          "height": 722
        },
        "id": "M05I03m0YLQs",
        "outputId": "47f20b3f-1910-4ef0-f601-aaedcdffdabc"
      },
      "source": [
        "# grafico Quantidade de livros lidos por idioma da obra original\n",
        "sns.set()\n",
        "plt.figure(figsize=(15, 10))\n",
        "\n",
        "plt.title('Total Livros Lidos por Idioma Original')\n",
        "qtd_livros_por_idioma_original['qtd_livros'].sort_values(ascending=False).plot.bar()\n",
        "\n",
        "for index, data in enumerate(qtd_livros_por_idioma_original['qtd_livros'].sort_values(ascending=False)):\n",
        "    plt.text(x=index , y=data+1, s=f\"{data}\", fontdict=dict(fontsize=10), ha='center')\n",
        "\n",
        "plt.xlabel('Idioma')\n",
        "plt.ylabel('Quantidade Livros')\n",
        "\n",
        "plt.show()"
      ],
      "execution_count": 25,
      "outputs": [
        {
          "output_type": "display_data",
          "data": {
            "text/plain": [
              "<Figure size 1080x720 with 1 Axes>"
            ],
            "image/png": "[encoded data removed]"
          },
          "metadata": {}
        }
      ]
    },
    {
      "cell_type": "code",
      "metadata": {
        "colab": {
          "base_uri": "https://localhost:8080/",
          "height": 677
        },
        "id": "uSQKe8xYbWS2",
        "outputId": "545adec6-637a-40d3-ae2d-0bc9e38e64c1"
      },
      "source": [
        "# Quantidade de livros lidos por nacionalidade do autor\n",
        "qtd_livros_por_nacionalidade_autor = df_my_books[\"nacionalidade_autor\"].value_counts()\n",
        "percentual_qtd_livros_por_nacionalidade_autor = df_my_books[\"nacionalidade_autor\"].value_counts(normalize = True) * 100\n",
        "dist_freq_livros_por_nacionalidade_autor = pd.DataFrame({'qtd_livros': qtd_livros_por_nacionalidade_autor, \n",
        "                                                   'Porcentagem (%)': percentual_qtd_livros_por_nacionalidade_autor})\n",
        "\n",
        "dist_freq_livros_por_nacionalidade_autor"
      ],
      "execution_count": 26,
      "outputs": [
        {
          "output_type": "execute_result",
          "data": {
            "text/plain": [
              "                  qtd_livros  Porcentagem (%)\n",
              "EUA                       34        38.202247\n",
              "Brasil                    12        13.483146\n",
              "Inglaterra                12        13.483146\n",
              "Bielo-Rússia               4         4.494382\n",
              "Itália                     4         4.494382\n",
              "França                     2         2.247191\n",
              "República Tcheca           2         2.247191\n",
              "Índia                      2         2.247191\n",
              "Ucrânia                    2         2.247191\n",
              "China                      2         2.247191\n",
              "Canadá                     2         2.247191\n",
              "Alemanha                   2         2.247191\n",
              "Áustria                    2         2.247191\n",
              "Irã                        1         1.123596\n",
              "México                     1         1.123596\n",
              "Argélia                    1         1.123596\n",
              "Zimbábue                   1         1.123596\n",
              "Russia                     1         1.123596\n",
              "Portugal                   1         1.123596\n",
              "Polônia                    1         1.123596"
            ],
            "text/html": [
              "\n",
              "  <div id=\"df-3b1c5504-0669-46c0-b4b8-b63712ac58ba\">\n",
              "    <div class=\"colab-df-container\">\n",
              "      <div>\n",
              "<style scoped>\n",
              "    .dataframe tbody tr th:only-of-type {\n",
              "        vertical-align: middle;\n",
              "    }\n",
              "\n",
              "    .dataframe tbody tr th {\n",
              "        vertical-align: top;\n",
              "    }\n",
              "\n",
              "    .dataframe thead th {\n",
              "        text-align: right;\n",
              "    }\n",
              "</style>\n",
              "<table border=\"1\" class=\"dataframe\">\n",
              "  <thead>\n",
              "    <tr style=\"text-align: right;\">\n",
              "      <th></th>\n",
              "      <th>qtd_livros</th>\n",
              "      <th>Porcentagem (%)</th>\n",
              "    </tr>\n",
              "  </thead>\n",
              "  <tbody>\n",
              "    <tr>\n",
              "      <th>EUA</th>\n",
              "      <td>34</td>\n",
              "      <td>38.202247</td>\n",
              "    </tr>\n",
              "    <tr>\n",
              "      <th>Brasil</th>\n",
              "      <td>12</td>\n",
              "      <td>13.483146</td>\n",
              "    </tr>\n",
              "    <tr>\n",
              "      <th>Inglaterra</th>\n",
              "      <td>12</td>\n",
              "      <td>13.483146</td>\n",
              "    </tr>\n",
              "    <tr>\n",
              "      <th>Bielo-Rússia</th>\n",
              "      <td>4</td>\n",
              "      <td>4.494382</td>\n",
              "    </tr>\n",
              "    <tr>\n",
              "      <th>Itália</th>\n",
              "      <td>4</td>\n",
              "      <td>4.494382</td>\n",
              "    </tr>\n",
              "    <tr>\n",
              "      <th>França</th>\n",
              "      <td>2</td>\n",
              "      <td>2.247191</td>\n",
              "    </tr>\n",
              "    <tr>\n",
              "      <th>República Tcheca</th>\n",
              "      <td>2</td>\n",
              "      <td>2.247191</td>\n",
              "    </tr>\n",
              "    <tr>\n",
              "      <th>Índia</th>\n",
              "      <td>2</td>\n",
              "      <td>2.247191</td>\n",
              "    </tr>\n",
              "    <tr>\n",
              "      <th>Ucrânia</th>\n",
              "      <td>2</td>\n",
              "      <td>2.247191</td>\n",
              "    </tr>\n",
              "    <tr>\n",
              "      <th>China</th>\n",
              "      <td>2</td>\n",
              "      <td>2.247191</td>\n",
              "    </tr>\n",
              "    <tr>\n",
              "      <th>Canadá</th>\n",
              "      <td>2</td>\n",
              "      <td>2.247191</td>\n",
              "    </tr>\n",
              "    <tr>\n",
              "      <th>Alemanha</th>\n",
              "      <td>2</td>\n",
              "      <td>2.247191</td>\n",
              "    </tr>\n",
              "    <tr>\n",
              "      <th>Áustria</th>\n",
              "      <td>2</td>\n",
              "      <td>2.247191</td>\n",
              "    </tr>\n",
              "    <tr>\n",
              "      <th>Irã</th>\n",
              "      <td>1</td>\n",
              "      <td>1.123596</td>\n",
              "    </tr>\n",
              "    <tr>\n",
              "      <th>México</th>\n",
              "      <td>1</td>\n",
              "      <td>1.123596</td>\n",
              "    </tr>\n",
              "    <tr>\n",
              "      <th>Argélia</th>\n",
              "      <td>1</td>\n",
              "      <td>1.123596</td>\n",
              "    </tr>\n",
              "    <tr>\n",
              "      <th>Zimbábue</th>\n",
              "      <td>1</td>\n",
              "      <td>1.123596</td>\n",
              "    </tr>\n",
              "    <tr>\n",
              "      <th>Russia</th>\n",
              "      <td>1</td>\n",
              "      <td>1.123596</td>\n",
              "    </tr>\n",
              "    <tr>\n",
              "      <th>Portugal</th>\n",
              "      <td>1</td>\n",
              "      <td>1.123596</td>\n",
              "    </tr>\n",
              "    <tr>\n",
              "      <th>Polônia</th>\n",
              "      <td>1</td>\n",
              "      <td>1.123596</td>\n",
              "    </tr>\n",
              "  </tbody>\n",
              "</table>\n",
              "</div>\n",
              "      <button class=\"colab-df-convert\" onclick=\"convertToInteractive('df-3b1c5504-0669-46c0-b4b8-b63712ac58ba')\"\n",
              "              title=\"Convert this dataframe to an interactive table.\"\n",
              "              style=\"display:none;\">\n",
              "        \n",
              "  <svg xmlns=\"http://www.w3.org/2000/svg\" height=\"24px\"viewBox=\"0 0 24 24\"\n",
              "       width=\"24px\">\n",
              "    <path d=\"M0 0h24v24H0V0z\" fill=\"none\"/>\n",
              "    <path d=\"M18.56 5.44l.94 2.06.94-2.06 2.06-.94-2.06-.94-.94-2.06-.94 2.06-2.06.94zm-11 1L8.5 8.5l.94-2.06 2.06-.94-2.06-.94L8.5 2.5l-.94 2.06-2.06.94zm10 10l.94 2.06.94-2.06 2.06-.94-2.06-.94-.94-2.06-.94 2.06-2.06.94z\"/><path d=\"M17.41 7.96l-1.37-1.37c-.4-.4-.92-.59-1.43-.59-.52 0-1.04.2-1.43.59L10.3 9.45l-7.72 7.72c-.78.78-.78 2.05 0 2.83L4 21.41c.39.39.9.59 1.41.59.51 0 1.02-.2 1.41-.59l7.78-7.78 2.81-2.81c.8-.78.8-2.07 0-2.86zM5.41 20L4 18.59l7.72-7.72 1.47 1.35L5.41 20z\"/>\n",
              "  </svg>\n",
              "      </button>\n",
              "      \n",
              "  <style>\n",
              "    .colab-df-container {\n",
              "      display:flex;\n",
              "      flex-wrap:wrap;\n",
              "      gap: 12px;\n",
              "    }\n",
              "\n",
              "    .colab-df-convert {\n",
              "      background-color: #E8F0FE;\n",
              "      border: none;\n",
              "      border-radius: 50%;\n",
              "      cursor: pointer;\n",
              "      display: none;\n",
              "      fill: #1967D2;\n",
              "      height: 32px;\n",
              "      padding: 0 0 0 0;\n",
              "      width: 32px;\n",
              "    }\n",
              "\n",
              "    .colab-df-convert:hover {\n",
              "      background-color: #E2EBFA;\n",
              "      box-shadow: 0px 1px 2px rgba(60, 64, 67, 0.3), 0px 1px 3px 1px rgba(60, 64, 67, 0.15);\n",
              "      fill: #174EA6;\n",
              "    }\n",
              "\n",
              "    [theme=dark] .colab-df-convert {\n",
              "      background-color: #3B4455;\n",
              "      fill: #D2E3FC;\n",
              "    }\n",
              "\n",
              "    [theme=dark] .colab-df-convert:hover {\n",
              "      background-color: #434B5C;\n",
              "      box-shadow: 0px 1px 3px 1px rgba(0, 0, 0, 0.15);\n",
              "      filter: drop-shadow(0px 1px 2px rgba(0, 0, 0, 0.3));\n",
              "      fill: #FFFFFF;\n",
              "    }\n",
              "  </style>\n",
              "\n",
              "      <script>\n",
              "        const buttonEl =\n",
              "          document.querySelector('#df-3b1c5504-0669-46c0-b4b8-b63712ac58ba button.colab-df-convert');\n",
              "        buttonEl.style.display =\n",
              "          google.colab.kernel.accessAllowed ? 'block' : 'none';\n",
              "\n",
              "        async function convertToInteractive(key) {\n",
              "          const element = document.querySelector('#df-3b1c5504-0669-46c0-b4b8-b63712ac58ba');\n",
              "          const dataTable =\n",
              "            await google.colab.kernel.invokeFunction('convertToInteractive',\n",
              "                                                     [key], {});\n",
              "          if (!dataTable) return;\n",
              "\n",
              "          const docLinkHtml = 'Like what you see? Visit the ' +\n",
              "            '<a target=\"_blank\" href=https://colab.research.google.com/notebooks/data_table.ipynb>data table notebook</a>'\n",
              "            + ' to learn more about interactive tables.';\n",
              "          element.innerHTML = '';\n",
              "          dataTable['output_type'] = 'display_data';\n",
              "          await google.colab.output.renderOutput(dataTable, element);\n",
              "          const docLink = document.createElement('div');\n",
              "          docLink.innerHTML = docLinkHtml;\n",
              "          element.appendChild(docLink);\n",
              "        }\n",
              "      </script>\n",
              "    </div>\n",
              "  </div>\n",
              "  "
            ]
          },
          "metadata": {},
          "execution_count": 26
        }
      ]
    },
    {
      "cell_type": "code",
      "metadata": {
        "colab": {
          "base_uri": "https://localhost:8080/",
          "height": 627
        },
        "id": "OSYNlatGcCWd",
        "outputId": "6a346b14-ee34-4ca4-fd64-f309cfa02b54"
      },
      "source": [
        "# Gráfico Quantidade de livros lidos por nacionalidade do autor\n",
        "sns.set()\n",
        "plt.figure(figsize=(15, 10))\n",
        "\n",
        "plt.title('Total Livros Lidos por Nacionalidade do Autor')\n",
        "dist_freq_livros_por_nacionalidade_autor['qtd_livros'].sort_values(ascending=True).plot.barh()\n",
        "\n",
        "plt.xlabel('Quantidade Livros')\n",
        "plt.ylabel('País')\n",
        "\n",
        "plt.show()"
      ],
      "execution_count": 27,
      "outputs": [
        {
          "output_type": "display_data",
          "data": {
            "text/plain": [
              "<Figure size 1080x720 with 1 Axes>"
            ],
            "image/png": "[encoded data removed]"
          },
          "metadata": {}
        }
      ]
    }
  ]
}